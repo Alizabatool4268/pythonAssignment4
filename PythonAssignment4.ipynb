{
  "nbformat": 4,
  "nbformat_minor": 0,
  "metadata": {
    "colab": {
      "provenance": [],
      "authorship_tag": "ABX9TyPUSNmJgeKyptBxx4STt5St",
      "include_colab_link": true
    },
    "kernelspec": {
      "name": "python3",
      "display_name": "Python 3"
    },
    "language_info": {
      "name": "python"
    }
  },
  "cells": [
    {
      "cell_type": "markdown",
      "metadata": {
        "id": "view-in-github",
        "colab_type": "text"
      },
      "source": [
        "<a href=\"https://colab.research.google.com/github/Alizabatool4268/pythonAssignment4/blob/main/PythonAssignment4.ipynb\" target=\"_parent\"><img src=\"https://colab.research.google.com/assets/colab-badge.svg\" alt=\"Open In Colab\"/></a>"
      ]
    },
    {
      "cell_type": "markdown",
      "source": [
        "# List Methods Practice\n",
        "\n",
        "1. Create and Modify Lists  \n",
        "\n",
        "o Create a list called fruits with the items: \"apple\", \"banana\", \"orange\"\n",
        "\n",
        "o Add \"grape\" to the end of the list using an appropriate method\n",
        "\n",
        "o Insert \"mango\" at position 2 in the list\n",
        "\n",
        "o Remove \"banana\" from the list\n",
        "\n",
        "o Print the final list"
      ],
      "metadata": {
        "id": "LkBzjBUGCSO4"
      }
    },
    {
      "cell_type": "code",
      "source": [
        "fruits=[\"apple\",\"banana\",\"orange\"]\n",
        "fruits.append(\"grape\")\n",
        "print(\"added grape\",fruits)\n",
        "fruits.insert(2,\"mango\")\n",
        "print(\"added mango\",fruits)\n",
        "fruits.remove(\"banana\")\n",
        "print(\"removed banana\",fruits)"
      ],
      "metadata": {
        "colab": {
          "base_uri": "https://localhost:8080/"
        },
        "id": "xRGdFFncCZIf",
        "outputId": "a39357d5-536d-4750-f00d-2bfcb7393535"
      },
      "execution_count": 10,
      "outputs": [
        {
          "output_type": "stream",
          "name": "stdout",
          "text": [
            "added grape ['apple', 'banana', 'orange', 'grape']\n",
            "added mango ['apple', 'banana', 'mango', 'orange', 'grape']\n",
            "removed banana ['apple', 'mango', 'orange', 'grape']\n"
          ]
        }
      ]
    },
    {
      "cell_type": "markdown",
      "source": [
        "2. List Operations\n",
        "\n",
        "o Create a list numbers with values: 10, 20, 30, 40, 50\n",
        "\n",
        "o Create a second list more_numbers with values: 60, 70, 80\n",
        "\n",
        "o Combine both lists into a new list called all_numbers\n",
        "\n",
        "o Make a copy of all_numbers called numbers_copy\n",
        "\n",
        "o Reverse the order of numbers_copy\n",
        "\n",
        "o Print both all_numbers and numbers_copy"
      ],
      "metadata": {
        "id": "NZWDNuV9D-7d"
      }
    },
    {
      "cell_type": "code",
      "source": [
        "numbers =[10,20,30,40,50]\n",
        "more_numbers= [60,70,80]\n",
        "all_numbers = numbers+more_numbers\n",
        "print(\"all numbers\",all_numbers)\n",
        "copy_numbers= all_numbers[:]\n",
        "print(\"copy numbers\",copy_numbers)\n",
        "copy_numbers.reverse()\n",
        "print(\"Reversed numbers\",copy_numbers)\n",
        "\n",
        "#Print both all_numbers and numbers_copy\n",
        "print(\"all numbers\",all_numbers)\n",
        "print(\"copy numbers\",copy_numbers)"
      ],
      "metadata": {
        "colab": {
          "base_uri": "https://localhost:8080/"
        },
        "id": "f5cCLgiPEGL7",
        "outputId": "47f53d32-ddba-4ddc-feba-31038c416503"
      },
      "execution_count": 24,
      "outputs": [
        {
          "output_type": "stream",
          "name": "stdout",
          "text": [
            "all numbers [10, 20, 30, 40, 50, 60, 70, 80]\n",
            "copy numbers [10, 20, 30, 40, 50, 60, 70, 80]\n",
            "Reversed numbers [80, 70, 60, 50, 40, 30, 20, 10]\n",
            "all numbers [10, 20, 30, 40, 50, 60, 70, 80]\n",
            "copy numbers [80, 70, 60, 50, 40, 30, 20, 10]\n"
          ]
        }
      ]
    },
    {
      "cell_type": "markdown",
      "source": [
        "3. Sorting and Counting  \n",
        "\n",
        "o Create a list scores with these values: 85, 92, 78, 65, 92, 85, 74\n",
        "\n",
        "o Sort the list in ascending order\n",
        "\n",
        "o Sort the list in descending order\n",
        "\n",
        "o Count how many times 92 appears in the list\n",
        "\n",
        "o Find and print the highest and lowest scores\n",
        "\n",
        "o Print the sorted list"
      ],
      "metadata": {
        "id": "mT2P6V5rIyU2"
      }
    },
    {
      "cell_type": "code",
      "source": [
        "scores=[85, 92, 78, 65, 92, 85, 74]\n",
        "scores.sort()\n",
        "print(\"ascending order\",scores)\n",
        "scores.sort(reverse=True)\n",
        "print(\"descending order\",scores)\n",
        "print(\"92 occurs\",scores.count(92),\"times\")\n",
        "highest_score=max(scores)\n",
        "print(\"highest score\",highest_score)\n",
        "lowest_score=min(scores)\n",
        "print(\"lowest score\",lowest_score)\n",
        "\n",
        "print(scores)\n"
      ],
      "metadata": {
        "colab": {
          "base_uri": "https://localhost:8080/"
        },
        "id": "gsqZnonpI1jZ",
        "outputId": "087f847a-2078-4fcd-fa61-50416bd3239e"
      },
      "execution_count": 42,
      "outputs": [
        {
          "output_type": "stream",
          "name": "stdout",
          "text": [
            "ascending order [65, 74, 78, 85, 85, 92, 92]\n",
            "descending order [92, 92, 85, 85, 78, 74, 65]\n",
            "92 occurs 2 times\n",
            "hiegest score 92\n",
            "lowest score 65\n",
            "[92, 92, 85, 85, 78, 74, 65]\n"
          ]
        }
      ]
    },
    {
      "cell_type": "markdown",
      "source": [
        "4. List Manipulation  \n",
        "\n",
        "o Create a list letters with values: \"a\", \"b\", \"c\", \"d\", \"e\"\n",
        "\n",
        "o Use slicing to create a new list with only the first three letters\n",
        "\n",
        "o Use slicing to create another list with only the last two letters\n",
        "\n",
        "o Find and print the index of \"c\" in the list\n",
        "\n",
        "o Replace \"d\" with \"z\" in the original list\n",
        "\n",
        "o Print the modified list"
      ],
      "metadata": {
        "id": "98ZkVZ0oPhuz"
      }
    },
    {
      "cell_type": "code",
      "source": [
        "first_five_alphabets =[ \"a\", \"b\", \"c\", \"d\", \"e\"]\n",
        "new_list_one = first_five_alphabets[0:3]\n",
        "print(\"new_list_one\",new_list_one)\n",
        "new_list_two = first_five_alphabets[3:5]\n",
        "print(new_list_two)\n",
        "first_five_alphabets.index(\"c\")\n",
        "first_five_alphabets[3]=\"z\"\n",
        "print(first_five_alphabets)"
      ],
      "metadata": {
        "colab": {
          "base_uri": "https://localhost:8080/"
        },
        "id": "SJZkE32uPpAa",
        "outputId": "adb91246-1cfd-4a27-9c70-27471118c3ac"
      },
      "execution_count": 52,
      "outputs": [
        {
          "output_type": "stream",
          "name": "stdout",
          "text": [
            "new_list_one ['a', 'b', 'c']\n",
            "['d', 'e']\n",
            "['a', 'b', 'c', 'z', 'e']\n"
          ]
        }
      ]
    },
    {
      "cell_type": "markdown",
      "source": [
        "# Dictionary Methods Practice\n",
        "1. Create and Access Dictionaries  \n",
        "\n",
        "o Create a dictionary called student with these key-value pairs:\n",
        "\n",
        " \"name\": \"John\"\n",
        " \"age\": 20\n",
        " \"grade\": \"A\"\n",
        " \"courses\": [\"Math\", \"Science\", \"History\"]\n",
        "\n",
        "o Print the student's name\n",
        "\n",
        "o Print the list of courses\n",
        "\n",
        "o Add a new key-value pair: \"email\": \"john@example.com\"\n",
        "\n",
        "o Print the entire dictionary"
      ],
      "metadata": {
        "id": "FfRgDtsMWz3u"
      }
    },
    {
      "cell_type": "code",
      "source": [
        "student= {\n",
        "    \"name\": \"John\",\n",
        "    \"age\": 20 ,\n",
        "    \"grade\": \"A\",\n",
        "    \"courses\": [\"Math\", \"Science\", \"History\"]\n",
        "}\n",
        "\n",
        "print(\"student name\",student[\"name\"])\n",
        "print(\"cources\", student[\"courses\"])\n",
        "student[\"email\"]= \"john@example.com\"\n",
        "print(\"whole dictionary\",student)"
      ],
      "metadata": {
        "colab": {
          "base_uri": "https://localhost:8080/"
        },
        "id": "nP7ixNP2bAwF",
        "outputId": "c302cce8-508e-4dac-c798-171c327ee7c1"
      },
      "execution_count": 57,
      "outputs": [
        {
          "output_type": "stream",
          "name": "stdout",
          "text": [
            "student name John\n",
            "cources ['Math', 'Science', 'History']\n",
            "whole dictionary {'name': 'John', 'age': 20, 'grade': 'A', 'courses': ['Math', 'Science', 'History'], 'email': 'john@example.com'}\n"
          ]
        }
      ]
    },
    {
      "cell_type": "markdown",
      "source": [
        "2. Modify Dictionary Values  \n",
        "\n",
        "o Change the student's age to 21\n",
        "\n",
        "o Add a new course \"Computer Science\" to the courses list\n",
        "\n",
        "o Update the grade to \"A+\"\n",
        "\n",
        "o Print the modified dictionary"
      ],
      "metadata": {
        "id": "GISt7SS3gekN"
      }
    },
    {
      "cell_type": "code",
      "source": [
        "student= {\n",
        "    \"name\": \"John\",\n",
        "    \"age\": 20 ,\n",
        "    \"grade\": \"A\",\n",
        "    \"courses\": [\"Math\", \"Science\", \"History\"]\n",
        "}\n",
        "\n",
        "student[\"age\"]= 21\n",
        "print(\"updated age\",student)\n",
        "student[\"courses\"].append(\"computer science\")\n",
        "print(student)\n",
        "student[\"grade\"] = \"A+\"\n",
        "print(\"modified dictionary\",student)"
      ],
      "metadata": {
        "colab": {
          "base_uri": "https://localhost:8080/"
        },
        "id": "2zEdTLAegoyv",
        "outputId": "a99f406a-b114-4cce-90f7-3d0c01376be1"
      },
      "execution_count": 66,
      "outputs": [
        {
          "output_type": "stream",
          "name": "stdout",
          "text": [
            "updated age {'name': 'John', 'age': 21, 'grade': 'A', 'courses': ['Math', 'Science', 'History']}\n",
            "{'name': 'John', 'age': 21, 'grade': 'A', 'courses': ['Math', 'Science', 'History', 'computer science']}\n",
            "modified dictionary {'name': 'John', 'age': 21, 'grade': 'A+', 'courses': ['Math', 'Science', 'History', 'computer science']}\n"
          ]
        }
      ]
    },
    {
      "cell_type": "markdown",
      "source": [
        "3. Dictionary Operations  \n",
        "\n",
        "o Create a second dictionary student_address with these key-value pairs:  \n",
        " \"street\": \"123 College Ave\"\n",
        " \"city\": \"New York\"\n",
        " \"zip\": \"10001\"\n",
        "\n",
        "o Combine both dictionaries into a new dictionary called student_info\n",
        "\n",
        "o Remove the \"zip\" key from student_info\n",
        "\n",
        "o Check if \"phone\" exists in the dictionary\n",
        "\n",
        "o Print the final dictionary"
      ],
      "metadata": {
        "id": "waCy7lZth4tC"
      }
    },
    {
      "cell_type": "code",
      "source": [
        "student_address={\n",
        "    \"street\": \"123 College Ave\",\n",
        "    \"city\": \"New York\",\n",
        "    \"zip\": \"10001\"\n",
        "}\n",
        "student_info= {\n",
        "    **student , **student_address\n",
        "}\n",
        "\n",
        "print(student_info)\n",
        "student_address.pop(\"zip\")\n",
        "print(\"removed zip\",student_address)\n",
        "\n",
        "if \"phone\" in student_info:\n",
        "  print(\"phone present\")\n",
        "else:\n",
        "  print(\"phone not present\")\n",
        "\n",
        "print(\"final dictionary\",student_info)"
      ],
      "metadata": {
        "colab": {
          "base_uri": "https://localhost:8080/"
        },
        "id": "izSTaYd1h-iL",
        "outputId": "946d588a-c562-4840-d28f-31f831c42a21"
      },
      "execution_count": 75,
      "outputs": [
        {
          "output_type": "stream",
          "name": "stdout",
          "text": [
            "{'name': 'John', 'age': 21, 'grade': 'A+', 'courses': ['Math', 'Science', 'History', 'computer science'], 'street': '123 College Ave', 'city': 'New York', 'zip': '10001'}\n",
            "removed zip {'street': '123 College Ave', 'city': 'New York'}\n",
            "phone not present\n",
            "final dictionary {'name': 'John', 'age': 21, 'grade': 'A+', 'courses': ['Math', 'Science', 'History', 'computer science'], 'street': '123 College Ave', 'city': 'New York', 'zip': '10001'}\n"
          ]
        }
      ]
    },
    {
      "cell_type": "markdown",
      "source": [
        "4. Dictionary Methods  \n",
        "\n",
        "o Create a dictionary word_count with these key-value pairs:  \n",
        " \"hello\": 5\n",
        " \"world\": 10\n",
        " \"python\": 15\n",
        "\n",
        "o Get all keys and print them as a list\n",
        "\n",
        "o Get all values and print them as a list\n",
        "\n",
        "o Get all key-value pairs and print them\n",
        "\n",
        "o Make a copy of the dictionary\n",
        "\n",
        "o Clear the original dictionary\n",
        "\n",
        "o Print both dictionaries to verify one is empty and one is a copy"
      ],
      "metadata": {
        "id": "_4mWnVlJkQzO"
      }
    },
    {
      "cell_type": "code",
      "source": [
        "word_count ={\n",
        "    \"hello\": 5 ,\n",
        "    \"world\": 10 ,\n",
        "    \"python\": 15\n",
        "}\n",
        "key = list(word_count.keys())\n",
        "print(\"all keys: \",key)\n",
        "value = list(word_count.values())\n",
        "print(\"all values: \", value)\n",
        "items = word_count.items()\n",
        "print(\"key value pairs: \",items)\n",
        "word_count_copy = word_count.copy()\n",
        "word_count.clear()\n",
        "\n",
        "print(\"Original Dictionary:\" ,word_count)\n",
        "print(\"Copy Dictionary:\" ,word_count_copy)"
      ],
      "metadata": {
        "colab": {
          "base_uri": "https://localhost:8080/"
        },
        "id": "e6XQNPjqkbiB",
        "outputId": "5d39013a-153f-494d-d1a1-85322bb4c7a6"
      },
      "execution_count": 83,
      "outputs": [
        {
          "output_type": "stream",
          "name": "stdout",
          "text": [
            "all keys:  ['hello', 'world', 'python']\n",
            "all values:  [5, 10, 15]\n",
            "key value pairs:  dict_items([('hello', 5), ('world', 10), ('python', 15)])\n",
            "Original Dictionary: {}\n",
            "Copy Dictionary: {'hello': 5, 'world': 10, 'python': 15}\n"
          ]
        }
      ]
    },
    {
      "cell_type": "markdown",
      "source": [
        "# Shopping Discount Calculator\n",
        "\n",
        "## Tasks\n",
        "\n",
        "1. Set up the initial variables:  \n",
        "o purchase_amount: The total cost of items in the shopping cart\n",
        "o is_loyalty_member: Boolean (True/False) indicating if the customer is a\n",
        "loyalty member\n",
        "o day_of_week: A string with the current day (e.g., \"Monday\", \"Tuesday\", etc.)\n",
        "o is_holiday_season: Boolean indicating if it's currently a holiday shopping\n",
        "season\n",
        "2. Apply discount rules using if statements:  \n",
        "o If purchase amount is greater than $100, apply a 10% discount\n",
        "o If purchase amount is greater than $50 (but less than or equal to $100),\n",
        "apply a 5% discount\n",
        "o If the customer is a loyalty member, apply an additional 5% discount\n",
        "o If it's a weekend (Saturday or Sunday), apply an additional 2% discount\n",
        "o If it's a holiday season, apply an additional 8% discount\n",
        "3. Calculate and display:  \n",
        "o The original purchase amount\n",
        "o Each discount that was applied and its amount\n",
        "o The final price after all discounts"
      ],
      "metadata": {
        "id": "s960IISB0Us4"
      }
    },
    {
      "cell_type": "code",
      "source": [
        "purchase_amount = int(input(\"Enter your purchse amount\"))\n",
        "is_loyalty_member = True\n",
        "day_of_week= \"Sunday\"\n",
        "is_holiday_season = True\n",
        "\n",
        "\n",
        "final_price = purchase_amount\n",
        "# intial total disocunt\n",
        "total_discount = 0\n",
        "\n",
        "print(\"Original Purchase Amount: $\", purchase_amount)\n",
        "\n",
        "if purchase_amount > 100:\n",
        "  discount = purchase_amount * 0.10\n",
        "  print(\"10% discount  \",discount )\n",
        "  total_discount +=discount\n",
        "  final_price -= discount\n",
        "\n",
        "elif purchase_amount > 50:\n",
        "  discount = purchase_amount * 0.5\n",
        "  print(\"5% discount\",discount )\n",
        "  total_discount +=discount\n",
        "  final_price -= discount\n",
        "\n",
        "if is_loyalty_member:\n",
        "    loyalty_discount = purchase_amount * 0.05\n",
        "    print(\"5% loyalty member discount: $\", loyalty_discount)\n",
        "    total_discount += loyalty_discount\n",
        "    final_price -= loyalty_discount\n",
        "\n",
        "if day_of_week == \"Saturday\" or day_of_week == \"Sunday\":\n",
        "  weekend_discount = purchase_amount * 0.02\n",
        "  print(\"2% weekend discount: $ \",weekend_discount)\n",
        "  total_discount +=weekend_discount\n",
        "  final_price -= weekend_discount\n",
        "if is_holiday_season:\n",
        "  holiday_discount = purchase_amount * 0.08\n",
        "  print(\"8% holiday season discount: $\", holiday_discount)\n",
        "  total_discount += holiday_discount\n",
        "  final_price -= holiday_discount\n",
        "\n",
        "print(\"\\nTotal Discount: $\",total_discount)\n",
        "print(\"Final Price after discounts: $\",final_price)"
      ],
      "metadata": {
        "colab": {
          "base_uri": "https://localhost:8080/"
        },
        "id": "cI6Rw5ZT0hBB",
        "outputId": "32af8cd0-00de-4656-b5e4-d8926b422f64"
      },
      "execution_count": 88,
      "outputs": [
        {
          "output_type": "stream",
          "name": "stdout",
          "text": [
            "Enter your purchse amount100\n",
            "Original Purchasen Amount: $ 100\n",
            "5% discount 50.0\n",
            "5% loyalty member discount: $ 5.0\n",
            "2% weekend discount: $  2.0\n",
            "8% holiday season discount: $ 8.0\n",
            "\n",
            "Total Discount: $ 65.0\n",
            "Final Price after discounts: $ 35.0\n"
          ]
        }
      ]
    },
    {
      "cell_type": "markdown",
      "source": [
        "# For Loop Assignment - Number Patterns\n",
        "\n",
        "1. Pattern 1: Counting Numbers  \n",
        "o Print numbers from 1 to 10 on a single line."
      ],
      "metadata": {
        "id": "GdiEzYbd18lP"
      }
    },
    {
      "cell_type": "code",
      "source": [
        "num=1\n",
        "for i in range(1,11):\n",
        "  print(i)"
      ],
      "metadata": {
        "colab": {
          "base_uri": "https://localhost:8080/"
        },
        "id": "HTVc_iga2GVP",
        "outputId": "8ab009ac-549a-4c1b-923d-821c3b99f2d5"
      },
      "execution_count": 89,
      "outputs": [
        {
          "output_type": "stream",
          "name": "stdout",
          "text": [
            "1\n",
            "2\n",
            "3\n",
            "4\n",
            "5\n",
            "6\n",
            "7\n",
            "8\n",
            "9\n",
            "10\n"
          ]
        }
      ]
    },
    {
      "cell_type": "markdown",
      "source": [
        "Pattern 2: Multiplication Table  \n",
        " Create a multiplication table for the number 5 (from 1 to 10)."
      ],
      "metadata": {
        "id": "J7xR4W422YqA"
      }
    },
    {
      "cell_type": "code",
      "source": [
        "for i in range(1,11):\n",
        "  print(f\" 5 * {1} = {i*5}\")"
      ],
      "metadata": {
        "colab": {
          "base_uri": "https://localhost:8080/"
        },
        "id": "-RDh3VMP2cFe",
        "outputId": "ada00841-06ba-495c-98b9-8c9d70cb2b28"
      },
      "execution_count": 92,
      "outputs": [
        {
          "output_type": "stream",
          "name": "stdout",
          "text": [
            " 5 * 1 = 5\n",
            " 5 * 1 = 10\n",
            " 5 * 1 = 15\n",
            " 5 * 1 = 20\n",
            " 5 * 1 = 25\n",
            " 5 * 1 = 30\n",
            " 5 * 1 = 35\n",
            " 5 * 1 = 40\n",
            " 5 * 1 = 45\n",
            " 5 * 1 = 50\n"
          ]
        }
      ]
    },
    {
      "cell_type": "markdown",
      "source": [
        "While Loop Assignment - Interactive Game\n",
        "\n",
        "Write a Python program that:\n",
        "1. Sets a \"secret number\" (you can choose any number between 1 and 50)\n",
        "2. Asks the player to guess the number\n",
        "3. Tells the player if their guess is too high or too low\n",
        "4. Keeps asking until the player guesses correctly\n",
        "5. Keeps track of how many guesses it took"
      ],
      "metadata": {
        "id": "jIP9CV-32-aS"
      }
    },
    {
      "cell_type": "code",
      "source": [
        "import random\n",
        "\n",
        "def number_guessing_game():\n",
        "    number = random.randint(1, 50)\n",
        "    print(\"Guess a number between 1 and 50...\\n\")\n",
        "    # asks user to enter number\n",
        "    guess_message = \"Enter a guess Number: \"\n",
        "    guess = int(input(guess_message))\n",
        "    guess_count = 1 #track guesses\n",
        "    # use while loops\n",
        "    while guess != number:\n",
        "        if guess < number:\n",
        "            print(\"Your guess is too low .\")\n",
        "        else:\n",
        "            print(\"Your guess is too high.\")\n",
        "\n",
        "        print()\n",
        "        guess = int(input(\"Enter a new guess: \"))\n",
        "        guess_count += 1\n",
        "\n",
        "    print(f\"\\n Congrats! The number was {number}.\")\n",
        "    print(f\"You guessed it in {guess_count} tries!\")\n",
        "\n",
        "# Run the game\n",
        "if __name__ == \"__main__\":\n",
        "    number_guessing_game()\n",
        ""
      ],
      "metadata": {
        "colab": {
          "base_uri": "https://localhost:8080/"
        },
        "id": "x0Z65xkD3FdJ",
        "outputId": "f5c77f47-54e3-41f8-87ab-980bb4eebae2"
      },
      "execution_count": 95,
      "outputs": [
        {
          "output_type": "stream",
          "name": "stdout",
          "text": [
            "Guess a number between 1 and 50...\n",
            "\n",
            "Enter a guess Number: 25\n",
            "Your guess is too low .\n",
            "\n",
            "Enter a new guess: 35\n",
            "Your guess is too high.\n",
            "\n",
            "Enter a new guess: 31\n",
            "Your guess is too low .\n",
            "\n",
            "Enter a new guess: 34\n",
            "\n",
            " Congrats! The number was 34.\n",
            "You guessed it in 4 tries!\n"
          ]
        }
      ]
    },
    {
      "cell_type": "markdown",
      "source": [
        "# Student Grade Management System\n",
        "\n",
        "1. Create a list to store information about students\n",
        "2. Each student should be represented as a dictionary with the following keys:  \n",
        "o name: The student's full name\n",
        "o id: A unique student ID number\n",
        "o grades: Another dictionary containing course names as keys and grades as\n",
        "values\n",
        "3. Your program should:  \n",
        "o Add at least 3 students to the list\n",
        "o Add grades for at least 3 courses for each student\n",
        "o Display all students with their grades\n",
        "o Calculate and display the average grade for each student\n",
        "o Find and display the student with the highest average grade\n",
        "o List all students with an average grade above 80\n",
        "o Calculate and display the average grade for a specific course\n",
        "o Add a new student to the system"
      ],
      "metadata": {
        "id": "j_JLNLdV4fB4"
      }
    },
    {
      "cell_type": "code",
      "source": [
        "students = [\n",
        "    {\n",
        "        \"name\": \"Faryal\",\n",
        "        \"id\": 34552,\n",
        "        \"grades\": {\n",
        "            \"Math\": 84,\n",
        "            \"English\": 87,\n",
        "            \"Science\": 77\n",
        "        }\n",
        "    },\n",
        "    {\n",
        "        \"name\": \"Ibaad\",\n",
        "        \"id\": 23567,\n",
        "        \"grades\": {\n",
        "            \"Math\": 96,\n",
        "            \"English\": 78,\n",
        "            \"Science\": 77\n",
        "        }\n",
        "    },\n",
        "    {\n",
        "        \"name\": \"ALiza\",\n",
        "        \"id\": 21498,\n",
        "        \"grades\": {\n",
        "            \"Math\": 67,\n",
        "            \"English\": 75,\n",
        "            \"Science\": 82\n",
        "        }\n",
        "    }\n",
        "]\n",
        "\n",
        "# students with their grades\n",
        "print(\"\\nAll Students with their Grades:\")\n",
        "for student in students:\n",
        "    print(f\"Student Name: {student['name']} Student Id: (ID: {student['id']}) Student Grades: {student['grades']}\")\n",
        "\n",
        "# display  Average grade for each student\n",
        "print(\"\\nAverage Grade per Student:\")\n",
        "highest_avg = 0\n",
        "top_student = None\n",
        "for student in students:\n",
        "    grades = student[\"grades\"].values()\n",
        "    average = sum(grades) / len(grades)\n",
        "    print(f\"{student['name']}: {average:.2f}\")\n",
        "# finding the top student\n",
        "    if average > highest_avg:\n",
        "        highest_avg = average\n",
        "        top_student = student[\"name\"]\n",
        "\n",
        "# Student with highest average\n",
        "print(f\"\\nTop Student: {top_student} with average {highest_avg}\")\n",
        "\n",
        "# Students with average above 80\n",
        "print(\"\\nStudents with average > 80:\")\n",
        "for student in students:\n",
        "    grades = student[\"grades\"].values()\n",
        "    average = sum(grades) / len(grades)\n",
        "    if average > 80:\n",
        "        print(f\"{student['name']}\")\n",
        "\n",
        "# Average grade for a specific course\n",
        "course = \"Math\"\n",
        "total = 0\n",
        "count = 0\n",
        "for student in students:\n",
        "    if course in student[\"grades\"]:\n",
        "        total += student[\"grades\"][course]\n",
        "        count += 1\n",
        "if count > 0:\n",
        "    print(f\"\\nAverage grade in {course}: {total / count:.2f}\")\n",
        "else:\n",
        "    print(f\"\\nNo grades found for course: {course}\")\n",
        "\n",
        "# Add a new student in student list\n",
        "new_student = {\n",
        "    \"name\": \"Alaya\",\n",
        "    \"id\": 21234,\n",
        "    \"grades\": {\n",
        "        \"Math\": 88,\n",
        "        \"English\": 78,\n",
        "        \"Science\": 83\n",
        "    }\n",
        "}\n",
        "# use append method to add new studnet in list\n",
        "students.append(new_student)\n",
        "print(f\"\\nNew student add successfully:  {new_student['name']}\")"
      ],
      "metadata": {
        "colab": {
          "base_uri": "https://localhost:8080/"
        },
        "id": "91t20scH5Dir",
        "outputId": "09547cd9-55e8-4a67-f4a7-10780faece3b"
      },
      "execution_count": 98,
      "outputs": [
        {
          "output_type": "stream",
          "name": "stdout",
          "text": [
            "\n",
            "All Students with their Grades:\n",
            "Student Name: Faryal Student Id: (ID: 34552) Student Grades: {'Math': 84, 'English': 87, 'Science': 77}\n",
            "Student Name: Ibaad Student Id: (ID: 23567) Student Grades: {'Math': 96, 'English': 78, 'Science': 77}\n",
            "Student Name: ALiza Student Id: (ID: 21498) Student Grades: {'Math': 67, 'English': 75, 'Science': 82}\n",
            "\n",
            "Average Grade per Student:\n",
            "Faryal: 82.67\n",
            "Ibaad: 83.67\n",
            "ALiza: 74.67\n",
            "\n",
            "Top Student: Ibaad with average 83.66666666666667\n",
            "\n",
            "Students with average > 80:\n",
            "Faryal\n",
            "Ibaad\n",
            "\n",
            "Average grade in Math: 82.33\n",
            "\n",
            "New student add successfully:  Alaya\n"
          ]
        }
      ]
    }
  ]
}